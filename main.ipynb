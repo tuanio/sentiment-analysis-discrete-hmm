{
 "cells": [
  {
   "cell_type": "code",
   "execution_count": 3,
   "id": "c51879c2-93ac-4938-94ae-767c2545fe38",
   "metadata": {},
   "outputs": [],
   "source": [
    "import numpy as np # thư viện tính toán \n",
    "import pandas as pd # đọc file csv\n",
    "import concurrent.futures as cf # thư viện giúp code python chạy đa luồng\n",
    "from hmmlearn import hmm # thư viện mô hình Markov ẩn \n",
    "from sklearn.cluster import KMeans # lượng hóa vector\n",
    "from sklearn.metrics import accuracy_score # đo độ chính xác của mô hình\n",
    "from sklearn.decomposition import TruncatedSVD # giảm chiều dữ liệu\n",
    "from sklearn.model_selection import train_test_split # chia tập dữ liệu train|test\n",
    "from sklearn.feature_extraction.text import TfidfVectorizer # tạo feature cho mô hình từ chữ"
   ]
  },
  {
   "cell_type": "code",
   "execution_count": 4,
   "id": "01e6882e-58bc-4fb0-b675-9ba9908e6939",
   "metadata": {},
   "outputs": [],
   "source": [
    "rs = 8"
   ]
  },
  {
   "cell_type": "code",
   "execution_count": 5,
   "id": "697c3b9a-b353-4014-aa34-eb2bd26e1fd4",
   "metadata": {},
   "outputs": [
    {
     "data": {
      "text/html": [
       "<div>\n",
       "<style scoped>\n",
       "    .dataframe tbody tr th:only-of-type {\n",
       "        vertical-align: middle;\n",
       "    }\n",
       "\n",
       "    .dataframe tbody tr th {\n",
       "        vertical-align: top;\n",
       "    }\n",
       "\n",
       "    .dataframe thead th {\n",
       "        text-align: right;\n",
       "    }\n",
       "</style>\n",
       "<table border=\"1\" class=\"dataframe\">\n",
       "  <thead>\n",
       "    <tr style=\"text-align: right;\">\n",
       "      <th></th>\n",
       "      <th>label</th>\n",
       "      <th>text</th>\n",
       "    </tr>\n",
       "  </thead>\n",
       "  <tbody>\n",
       "    <tr>\n",
       "      <th>0</th>\n",
       "      <td>neutral</td>\n",
       "      <td>According to Gran , the company has no plans t...</td>\n",
       "    </tr>\n",
       "    <tr>\n",
       "      <th>1</th>\n",
       "      <td>neutral</td>\n",
       "      <td>Technopolis plans to develop in stages an area...</td>\n",
       "    </tr>\n",
       "    <tr>\n",
       "      <th>2</th>\n",
       "      <td>negative</td>\n",
       "      <td>The international electronic industry company ...</td>\n",
       "    </tr>\n",
       "    <tr>\n",
       "      <th>3</th>\n",
       "      <td>positive</td>\n",
       "      <td>With the new production plant the company woul...</td>\n",
       "    </tr>\n",
       "    <tr>\n",
       "      <th>4</th>\n",
       "      <td>positive</td>\n",
       "      <td>According to the company 's updated strategy f...</td>\n",
       "    </tr>\n",
       "    <tr>\n",
       "      <th>...</th>\n",
       "      <td>...</td>\n",
       "      <td>...</td>\n",
       "    </tr>\n",
       "    <tr>\n",
       "      <th>4841</th>\n",
       "      <td>negative</td>\n",
       "      <td>LONDON MarketWatch -- Share prices ended lower...</td>\n",
       "    </tr>\n",
       "    <tr>\n",
       "      <th>4842</th>\n",
       "      <td>neutral</td>\n",
       "      <td>Rinkuskiai 's beer sales fell by 6.5 per cent ...</td>\n",
       "    </tr>\n",
       "    <tr>\n",
       "      <th>4843</th>\n",
       "      <td>negative</td>\n",
       "      <td>Operating profit fell to EUR 35.4 mn from EUR ...</td>\n",
       "    </tr>\n",
       "    <tr>\n",
       "      <th>4844</th>\n",
       "      <td>negative</td>\n",
       "      <td>Net sales of the Paper segment decreased to EU...</td>\n",
       "    </tr>\n",
       "    <tr>\n",
       "      <th>4845</th>\n",
       "      <td>negative</td>\n",
       "      <td>Sales in Finland decreased by 10.5 % in Januar...</td>\n",
       "    </tr>\n",
       "  </tbody>\n",
       "</table>\n",
       "<p>4846 rows × 2 columns</p>\n",
       "</div>"
      ],
      "text/plain": [
       "         label                                               text\n",
       "0      neutral  According to Gran , the company has no plans t...\n",
       "1      neutral  Technopolis plans to develop in stages an area...\n",
       "2     negative  The international electronic industry company ...\n",
       "3     positive  With the new production plant the company woul...\n",
       "4     positive  According to the company 's updated strategy f...\n",
       "...        ...                                                ...\n",
       "4841  negative  LONDON MarketWatch -- Share prices ended lower...\n",
       "4842   neutral  Rinkuskiai 's beer sales fell by 6.5 per cent ...\n",
       "4843  negative  Operating profit fell to EUR 35.4 mn from EUR ...\n",
       "4844  negative  Net sales of the Paper segment decreased to EU...\n",
       "4845  negative  Sales in Finland decreased by 10.5 % in Januar...\n",
       "\n",
       "[4846 rows x 2 columns]"
      ]
     },
     "execution_count": 5,
     "metadata": {},
     "output_type": "execute_result"
    }
   ],
   "source": [
    "df = pd.read_csv('all-data.csv', encoding=\"ISO-8859-1\", header=None, names=['label', 'text'])\n",
    "df"
   ]
  },
  {
   "cell_type": "code",
   "execution_count": 6,
   "id": "88247328-c364-42d0-8cd7-465e0d4e2d9f",
   "metadata": {},
   "outputs": [],
   "source": [
    "corpus = df['text'].values"
   ]
  },
  {
   "cell_type": "markdown",
   "id": "0b48a756-d459-42e3-a972-44117d67bf66",
   "metadata": {},
   "source": [
    "### 1. Tạo feature dữ liệu số từ dữ liệu chữ có sẵn bằng TF-IDF và giữ thông tin quan trọng bằng Truncated SVD"
   ]
  },
  {
   "cell_type": "code",
   "execution_count": 37,
   "id": "50db279f-8a7b-4461-8d55-1ab5224af5cc",
   "metadata": {},
   "outputs": [
    {
     "name": "stdout",
     "output_type": "stream",
     "text": [
      "Kích cỡ dữ liệu: (4846, 9820)\n"
     ]
    }
   ],
   "source": [
    "tfidf = TfidfVectorizer(stop_words='english')\n",
    "transformed = tfidf.fit_transform(corpus)\n",
    "\n",
    "print(\"Kích cỡ dữ liệu:\", transformed.shape)"
   ]
  },
  {
   "cell_type": "code",
   "execution_count": 39,
   "id": "45523dac-c11b-4cce-a75a-10449c22689f",
   "metadata": {},
   "outputs": [
    {
     "name": "stdout",
     "output_type": "stream",
     "text": [
      "Kích cỡ dữ liệu: (4846, 300)\n"
     ]
    }
   ],
   "source": [
    "svd = TruncatedSVD(n_components=300, random_state=rs)\n",
    "X_transformed = svd.fit_transform(transformed)\n",
    "\n",
    "print(\"Kích cỡ dữ liệu:\", X_transformed.shape)"
   ]
  },
  {
   "cell_type": "code",
   "execution_count": 44,
   "id": "5e6e62ca-46fe-4c4a-a513-f905dcbc5c07",
   "metadata": {},
   "outputs": [
    {
     "name": "stdout",
     "output_type": "stream",
     "text": [
      "[[ 2.74853772e-02  1.23546023e-01 -9.18267054e-02 ... -1.04585446e-02\n",
      "   6.31456379e-02  1.64352977e-02]\n",
      " [ 1.71779475e-02  6.60849287e-02 -3.16730100e-02 ...  3.16069539e-02\n",
      "   2.32036018e-02 -8.03645790e-03]\n",
      " [ 2.53099565e-02  8.71819162e-02 -5.00550792e-02 ... -5.08493999e-02\n",
      "  -6.52592321e-02 -4.16690704e-02]\n",
      " ...\n",
      " [ 6.29146372e-01 -1.92710754e-01  3.24730118e-02 ...  3.28086253e-02\n",
      "  -1.07719957e-02 -8.53337727e-04]\n",
      " [ 6.66497950e-01 -1.41546038e-01  1.81541966e-03 ...  7.96125651e-03\n",
      "  -2.97791037e-03 -1.60182069e-04]\n",
      " [ 9.54134895e-02  1.71111951e-01 -6.08651229e-02 ... -1.30032385e-02\n",
      "   3.79181183e-02  1.24508153e-02]]\n"
     ]
    }
   ],
   "source": [
    "print(X_transformed)"
   ]
  },
  {
   "cell_type": "markdown",
   "id": "7ab522e7-6a20-453d-abdb-97da6369fc3b",
   "metadata": {},
   "source": [
    "### 2. Lượng tử vector (vector quantization) thành dạng định tính"
   ]
  },
  {
   "cell_type": "code",
   "execution_count": 9,
   "id": "fd32c9ce-7a91-4481-98ec-7678e266dba4",
   "metadata": {},
   "outputs": [],
   "source": [
    "X_cluster = X_transformed.reshape(-1, 1)"
   ]
  },
  {
   "cell_type": "code",
   "execution_count": 10,
   "id": "d9bd9d4e-d8f9-4fe1-b23b-87c767061d29",
   "metadata": {},
   "outputs": [
    {
     "name": "stdout",
     "output_type": "stream",
     "text": [
      "CPU times: user 1min 57s, sys: 5.19 s, total: 2min 2s\n",
      "Wall time: 1min 32s\n"
     ]
    },
    {
     "data": {
      "text/plain": [
       "KMeans(n_clusters=30)"
      ]
     },
     "execution_count": 10,
     "metadata": {},
     "output_type": "execute_result"
    }
   ],
   "source": [
    "%%time\n",
    "\n",
    "vq = KMeans(n_clusters=30) # vector quantization\n",
    "vq.fit(X_cluster)"
   ]
  },
  {
   "cell_type": "code",
   "execution_count": 11,
   "id": "90ebe901-c737-4f13-94ce-dcc648723178",
   "metadata": {},
   "outputs": [
    {
     "name": "stdout",
     "output_type": "stream",
     "text": [
      "CPU times: user 3.87 s, sys: 2.46 s, total: 6.33 s\n",
      "Wall time: 3.13 s\n"
     ]
    }
   ],
   "source": [
    "%%time\n",
    "\n",
    "def map_vq(x):\n",
    "    return vq.predict(x.reshape(-1, 1))\n",
    "\n",
    "with cf.ThreadPoolExecutor() as exe:\n",
    "    X = np.array(list(exe.map(map_vq, X_transformed)))"
   ]
  },
  {
   "cell_type": "code",
   "execution_count": 45,
   "id": "751e1a99-1680-4707-aad2-af016b756bd8",
   "metadata": {},
   "outputs": [
    {
     "name": "stdout",
     "output_type": "stream",
     "text": [
      "[[ 9 11  0 ...  8 16 22]\n",
      " [27 16 20 ...  9 27  8]\n",
      " [ 9  3 19 ... 19 28 10]\n",
      " ...\n",
      " [26 24  4 ...  4  8 13]\n",
      " [26 24 13 ...  1 29 13]\n",
      " [ 3 18 28 ... 17  4 22]]\n"
     ]
    }
   ],
   "source": [
    "print(X)"
   ]
  },
  {
   "cell_type": "markdown",
   "id": "5e27f70c-270c-45a7-96d9-5d5d58b68efa",
   "metadata": {},
   "source": [
    "### 3. Phân chia tập train test"
   ]
  },
  {
   "cell_type": "code",
   "execution_count": 12,
   "id": "46c263b7-2c99-48ad-8ae5-6c08796f55b5",
   "metadata": {},
   "outputs": [],
   "source": [
    "y = df['label']"
   ]
  },
  {
   "cell_type": "code",
   "execution_count": 13,
   "id": "3a7f59df-4b10-46e1-a5a4-9217281eafa5",
   "metadata": {},
   "outputs": [
    {
     "data": {
      "text/plain": [
       "array(['negative', 'neutral', 'positive'], dtype=object)"
      ]
     },
     "execution_count": 13,
     "metadata": {},
     "output_type": "execute_result"
    }
   ],
   "source": [
    "labels = np.unique(y)\n",
    "labels"
   ]
  },
  {
   "cell_type": "code",
   "execution_count": 14,
   "id": "6267f6e4-3e41-4d95-b3f6-12d6cd93016e",
   "metadata": {},
   "outputs": [],
   "source": [
    "Xtrain, Xtest, ytrain, ytest = train_test_split(X, y, test_size=0.2, random_state=rs)"
   ]
  },
  {
   "cell_type": "markdown",
   "id": "a665509f-83e1-4891-89f8-8ddd26a71cc1",
   "metadata": {},
   "source": [
    "### 4. Huấn luyện mô hình Markov ẩn"
   ]
  },
  {
   "cell_type": "code",
   "execution_count": 41,
   "id": "d3517a1b-f5bb-470d-873e-e3cf7e581f6b",
   "metadata": {},
   "outputs": [],
   "source": [
    "class HMMSystem:\n",
    "    def __init__(self, n_components=10, random_state=rs):\n",
    "        self.n_components = n_components\n",
    "        self.random_state = random_state\n",
    "    \n",
    "    def fit(self, X, y):\n",
    "        self.labels = np.unique(y)\n",
    "        self.X = X\n",
    "        self.y = y\n",
    "        self.hmm_models = {}\n",
    "        for c in self.labels:\n",
    "            with cf.ThreadPoolExecutor() as exe:\n",
    "                self.hmm_models = list(exe.map(self._create_model, self.labels))\n",
    "            self.hmm_models = dict(zip(self.labels, self.hmm_models))\n",
    "        return self\n",
    "        \n",
    "    def predict(self, X):\n",
    "        with cf.ThreadPoolExecutor() as exe:\n",
    "            pred = np.array(list(exe.map(self._find_class, X)))\n",
    "        return pred\n",
    "    \n",
    "    def _create_model(self, label):\n",
    "        model = hmm.MultinomialHMM(\n",
    "            n_components=self.n_components,\n",
    "            random_state=self.random_state\n",
    "        ).fit(self.X[self.y == label])\n",
    "        return model\n",
    "    \n",
    "    def _find_class(self, data):\n",
    "        def _decode(model):\n",
    "            return model.decode([data])[0]\n",
    "\n",
    "        with cf.ThreadPoolExecutor() as exe:\n",
    "            logprobs = list(exe.map(_decode, self.hmm_models.values()))\n",
    "\n",
    "        return self.labels[np.argmax(logprobs)]"
   ]
  },
  {
   "cell_type": "code",
   "execution_count": 48,
   "id": "ac1c8edb-1016-4bb8-9065-5d1ab354b833",
   "metadata": {},
   "outputs": [
    {
     "name": "stdout",
     "output_type": "stream",
     "text": [
      "CPU times: user 17min 26s, sys: 5.09 s, total: 17min 31s\n",
      "Wall time: 8min 20s\n"
     ]
    },
    {
     "data": {
      "text/plain": [
       "<__main__.HMMSystem at 0x7fc357faf970>"
      ]
     },
     "execution_count": 48,
     "metadata": {},
     "output_type": "execute_result"
    }
   ],
   "source": [
    "%%time\n",
    "\n",
    "model = HMMSystem(8, rs)\n",
    "model.fit(X, y)"
   ]
  },
  {
   "cell_type": "code",
   "execution_count": 49,
   "id": "2220fb94-7975-414f-81f5-555f33c4db7e",
   "metadata": {},
   "outputs": [
    {
     "name": "stdout",
     "output_type": "stream",
     "text": [
      "CPU times: user 10.5 s, sys: 2.75 s, total: 13.2 s\n",
      "Wall time: 9.47 s\n"
     ]
    }
   ],
   "source": [
    "%%time\n",
    "\n",
    "ytest_pred = model.predict(Xtest)\n",
    "ytrain_pred = model.predict(Xtrain)"
   ]
  },
  {
   "cell_type": "code",
   "execution_count": 50,
   "id": "be8b4a41-3036-4e4a-a7cf-fc40e7d3a5bf",
   "metadata": {},
   "outputs": [
    {
     "name": "stdout",
     "output_type": "stream",
     "text": [
      "Độ chính xác tập huấn luyện: 0.46/1\n",
      "Độ chính xác tập kiểm thử: 0.48/1\n"
     ]
    }
   ],
   "source": [
    "acc_train = accuracy_score(ytrain, ytrain_pred)\n",
    "acc_test = accuracy_score(ytest, ytest_pred)\n",
    "\n",
    "print(\"Độ chính xác tập huấn luyện: %.2f/1\" % acc_train)\n",
    "print(\"Độ chính xác tập kiểm thử: %.2f/1\" % acc_test)"
   ]
  }
 ],
 "metadata": {
  "kernelspec": {
   "display_name": "default:Python",
   "language": "python",
   "name": "conda-env-default-py"
  },
  "language_info": {
   "codemirror_mode": {
    "name": "ipython",
    "version": 3
   },
   "file_extension": ".py",
   "mimetype": "text/x-python",
   "name": "python",
   "nbconvert_exporter": "python",
   "pygments_lexer": "ipython3",
   "version": "3.9.7"
  }
 },
 "nbformat": 4,
 "nbformat_minor": 5
}
