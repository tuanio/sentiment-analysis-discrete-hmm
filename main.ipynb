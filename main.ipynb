{
 "cells": [
  {
   "cell_type": "code",
   "execution_count": 194,
   "id": "c51879c2-93ac-4938-94ae-767c2545fe38",
   "metadata": {},
   "outputs": [
    {
     "name": "stderr",
     "output_type": "stream",
     "text": [
      "[nltk_data] Downloading package punkt to\n",
      "[nltk_data]     C:\\Users\\nvatu\\AppData\\Roaming\\nltk_data...\n",
      "[nltk_data]   Package punkt is already up-to-date!\n"
     ]
    }
   ],
   "source": [
    "import pandas as pd\n",
    "import numpy as np\n",
    "import matplotlib.pyplot as plt\n",
    "import string\n",
    "import nltk\n",
    "nltk.download('punkt')\n",
    "from nltk.tokenize import word_tokenize, sent_tokenize\n",
    "from sklearn.feature_extraction.text import TfidfVectorizer\n",
    "from sklearn.decomposition import TruncatedSVD\n",
    "from sklearn.model_selection import train_test_split\n",
    "from sklearn.preprocessing import LabelEncoder\n",
    "from sklearn.linear_model import LogisticRegression\n",
    "from sklearn.cluster import KMeans\n",
    "from hmmlearn import hmm"
   ]
  },
  {
   "cell_type": "code",
   "execution_count": 105,
   "id": "01e6882e-58bc-4fb0-b675-9ba9908e6939",
   "metadata": {},
   "outputs": [],
   "source": [
    "rs = 12"
   ]
  },
  {
   "cell_type": "code",
   "execution_count": 37,
   "id": "697c3b9a-b353-4014-aa34-eb2bd26e1fd4",
   "metadata": {},
   "outputs": [
    {
     "data": {
      "text/html": [
       "<div>\n",
       "<style scoped>\n",
       "    .dataframe tbody tr th:only-of-type {\n",
       "        vertical-align: middle;\n",
       "    }\n",
       "\n",
       "    .dataframe tbody tr th {\n",
       "        vertical-align: top;\n",
       "    }\n",
       "\n",
       "    .dataframe thead th {\n",
       "        text-align: right;\n",
       "    }\n",
       "</style>\n",
       "<table border=\"1\" class=\"dataframe\">\n",
       "  <thead>\n",
       "    <tr style=\"text-align: right;\">\n",
       "      <th></th>\n",
       "      <th>label</th>\n",
       "      <th>text</th>\n",
       "    </tr>\n",
       "  </thead>\n",
       "  <tbody>\n",
       "    <tr>\n",
       "      <th>0</th>\n",
       "      <td>neutral</td>\n",
       "      <td>According to Gran , the company has no plans t...</td>\n",
       "    </tr>\n",
       "    <tr>\n",
       "      <th>1</th>\n",
       "      <td>neutral</td>\n",
       "      <td>Technopolis plans to develop in stages an area...</td>\n",
       "    </tr>\n",
       "    <tr>\n",
       "      <th>2</th>\n",
       "      <td>negative</td>\n",
       "      <td>The international electronic industry company ...</td>\n",
       "    </tr>\n",
       "    <tr>\n",
       "      <th>3</th>\n",
       "      <td>positive</td>\n",
       "      <td>With the new production plant the company woul...</td>\n",
       "    </tr>\n",
       "    <tr>\n",
       "      <th>4</th>\n",
       "      <td>positive</td>\n",
       "      <td>According to the company 's updated strategy f...</td>\n",
       "    </tr>\n",
       "    <tr>\n",
       "      <th>...</th>\n",
       "      <td>...</td>\n",
       "      <td>...</td>\n",
       "    </tr>\n",
       "    <tr>\n",
       "      <th>4841</th>\n",
       "      <td>negative</td>\n",
       "      <td>LONDON MarketWatch -- Share prices ended lower...</td>\n",
       "    </tr>\n",
       "    <tr>\n",
       "      <th>4842</th>\n",
       "      <td>neutral</td>\n",
       "      <td>Rinkuskiai 's beer sales fell by 6.5 per cent ...</td>\n",
       "    </tr>\n",
       "    <tr>\n",
       "      <th>4843</th>\n",
       "      <td>negative</td>\n",
       "      <td>Operating profit fell to EUR 35.4 mn from EUR ...</td>\n",
       "    </tr>\n",
       "    <tr>\n",
       "      <th>4844</th>\n",
       "      <td>negative</td>\n",
       "      <td>Net sales of the Paper segment decreased to EU...</td>\n",
       "    </tr>\n",
       "    <tr>\n",
       "      <th>4845</th>\n",
       "      <td>negative</td>\n",
       "      <td>Sales in Finland decreased by 10.5 % in Januar...</td>\n",
       "    </tr>\n",
       "  </tbody>\n",
       "</table>\n",
       "<p>4846 rows × 2 columns</p>\n",
       "</div>"
      ],
      "text/plain": [
       "         label                                               text\n",
       "0      neutral  According to Gran , the company has no plans t...\n",
       "1      neutral  Technopolis plans to develop in stages an area...\n",
       "2     negative  The international electronic industry company ...\n",
       "3     positive  With the new production plant the company woul...\n",
       "4     positive  According to the company 's updated strategy f...\n",
       "...        ...                                                ...\n",
       "4841  negative  LONDON MarketWatch -- Share prices ended lower...\n",
       "4842   neutral  Rinkuskiai 's beer sales fell by 6.5 per cent ...\n",
       "4843  negative  Operating profit fell to EUR 35.4 mn from EUR ...\n",
       "4844  negative  Net sales of the Paper segment decreased to EU...\n",
       "4845  negative  Sales in Finland decreased by 10.5 % in Januar...\n",
       "\n",
       "[4846 rows x 2 columns]"
      ]
     },
     "execution_count": 37,
     "metadata": {},
     "output_type": "execute_result"
    }
   ],
   "source": [
    "df = pd.read_csv('all-data.csv', encoding=\"ISO-8859-1\", header=None, names=['label', 'text'])\n",
    "df"
   ]
  },
  {
   "cell_type": "code",
   "execution_count": 63,
   "id": "88247328-c364-42d0-8cd7-465e0d4e2d9f",
   "metadata": {},
   "outputs": [],
   "source": [
    "corpus = df['text'].values"
   ]
  },
  {
   "cell_type": "code",
   "execution_count": 65,
   "id": "7ddfe995-f63f-4b42-a4f0-cec619faa3ea",
   "metadata": {},
   "outputs": [
    {
     "data": {
      "text/plain": [
       "\"Incap Corporation Stock Exchange Release 4 May 2010 at 8.30 a.m. INCAP CORPORATION 'S DIRECTED SHARE ISSUE WAS SUBSCRIBED IN FULL The Board of Incap Corporation has approved the subscriptions of directed share issue .\""
      ]
     },
     "execution_count": 65,
     "metadata": {},
     "output_type": "execute_result"
    }
   ],
   "source": [
    "corpus[1000]"
   ]
  },
  {
   "cell_type": "code",
   "execution_count": 66,
   "id": "8a9c2639-5be5-440e-8390-b30972fc2632",
   "metadata": {},
   "outputs": [
    {
     "data": {
      "text/plain": [
       "neutral     2879\n",
       "positive    1363\n",
       "negative     604\n",
       "Name: label, dtype: int64"
      ]
     },
     "execution_count": 66,
     "metadata": {},
     "output_type": "execute_result"
    }
   ],
   "source": [
    "df['label'].value_counts()"
   ]
  },
  {
   "cell_type": "code",
   "execution_count": 68,
   "id": "e70204d1-9d25-482a-bb00-027a62d4080f",
   "metadata": {},
   "outputs": [],
   "source": [
    "def preprocess(text):\n",
    "    text = word_tokenize(text.lower())\n",
    "    return text"
   ]
  },
  {
   "cell_type": "code",
   "execution_count": 73,
   "id": "ee20d666-6ac2-49bb-9895-7d5977be12c1",
   "metadata": {},
   "outputs": [],
   "source": [
    "data = list(map(preprocess, corpus))"
   ]
  },
  {
   "cell_type": "code",
   "execution_count": 203,
   "id": "45523dac-c11b-4cce-a75a-10449c22689f",
   "metadata": {},
   "outputs": [],
   "source": [
    "tfidf = TfidfVectorizer()\n",
    "svd = TruncatedSVD(n_components=100)\n",
    "transformed = tfidf.fit_transform(corpus)\n",
    "X = svd.fit_transform(transformed)"
   ]
  },
  {
   "cell_type": "code",
   "execution_count": 204,
   "id": "fd32c9ce-7a91-4481-98ec-7678e266dba4",
   "metadata": {},
   "outputs": [],
   "source": [
    "X_cluster = X.reshape(-1, 1)"
   ]
  },
  {
   "cell_type": "code",
   "execution_count": 205,
   "id": "e48e9384-9874-448d-9f73-6eff1277e1ac",
   "metadata": {},
   "outputs": [
    {
     "name": "stdout",
     "output_type": "stream",
     "text": [
      "Wall time: 13.3 s\n"
     ]
    },
    {
     "data": {
      "text/plain": [
       "KMeans(n_clusters=10)"
      ]
     },
     "execution_count": 205,
     "metadata": {},
     "output_type": "execute_result"
    }
   ],
   "source": [
    "%%time\n",
    "\n",
    "mo = KMeans(n_clusters=10)\n",
    "mo.fit(X_cluster)"
   ]
  },
  {
   "cell_type": "code",
   "execution_count": 212,
   "id": "eb084697-0e6b-4b4e-9827-9593a66a381c",
   "metadata": {},
   "outputs": [],
   "source": [
    "elbow = []\n",
    "for i in [10, 15, 20, 25, 30, 35, 40, 45, 50]:\n",
    "    cluster = KMeans(n_clusters=i)\n",
    "    cluster.fit(X_cluster)\n",
    "    elbow.append(cluster.inertia_)"
   ]
  },
  {
   "cell_type": "code",
   "execution_count": 213,
   "id": "ee1561e8-3894-4a5e-bf6b-9d63e0564133",
   "metadata": {},
   "outputs": [
    {
     "data": {
      "image/png": "[encoded data removed]",
      "text/plain": [
       "<Figure size 432x288 with 1 Axes>"
      ]
     },
     "metadata": {
      "needs_background": "light"
     },
     "output_type": "display_data"
    }
   ],
   "source": [
    "clusters = [10, 15, 20, 25, 30, 35, 40, 45, 50]\n",
    "plt.scatter(clusters, elbow)\n",
    "plt.plot(clusters, elbow)\n",
    "plt.show()"
   ]
  },
  {
   "cell_type": "code",
   "execution_count": 175,
   "id": "46c263b7-2c99-48ad-8ae5-6c08796f55b5",
   "metadata": {},
   "outputs": [],
   "source": [
    "y = df['label']\n",
    "\n",
    "encoder = LabelEncoder()\n",
    "y = encoder.fit_transform(y)"
   ]
  },
  {
   "cell_type": "code",
   "execution_count": 176,
   "id": "6267f6e4-3e41-4d95-b3f6-12d6cd93016e",
   "metadata": {},
   "outputs": [],
   "source": [
    "Xtrain, Xtest, ytrain, ytest = train_test_split(X, y, test_size=0.2, random_state=rs)"
   ]
  },
  {
   "cell_type": "code",
   "execution_count": 177,
   "id": "13e9673a-89ee-4f03-9707-efc52a8b663c",
   "metadata": {},
   "outputs": [
    {
     "data": {
      "text/plain": [
       "LogisticRegression()"
      ]
     },
     "execution_count": 177,
     "metadata": {},
     "output_type": "execute_result"
    }
   ],
   "source": [
    "model = LogisticRegression()\n",
    "model.fit(Xtrain, ytrain)"
   ]
  },
  {
   "cell_type": "code",
   "execution_count": 178,
   "id": "2ad6da8b-a436-443f-9239-2d9567f2d850",
   "metadata": {},
   "outputs": [
    {
     "data": {
      "text/plain": [
       "0.847265221878225"
      ]
     },
     "execution_count": 178,
     "metadata": {},
     "output_type": "execute_result"
    }
   ],
   "source": [
    "model.score(Xtrain, ytrain)"
   ]
  },
  {
   "cell_type": "code",
   "execution_count": 179,
   "id": "e32becba-f57f-4104-a1f5-130c837cdb93",
   "metadata": {},
   "outputs": [
    {
     "data": {
      "text/plain": [
       "0.743298969072165"
      ]
     },
     "execution_count": 179,
     "metadata": {},
     "output_type": "execute_result"
    }
   ],
   "source": [
    "model.score(Xtest, ytest)"
   ]
  },
  {
   "cell_type": "code",
   "execution_count": 180,
   "id": "7a9d80c0-be9f-4960-92d3-3fdfaa11f8a9",
   "metadata": {},
   "outputs": [
    {
     "data": {
      "text/plain": [
       "array([[ 2.24244427e-01, -1.90894643e-01, -6.05295913e-02, ...,\n",
       "         5.92387356e-05,  3.80389361e-03,  1.00838328e-02],\n",
       "       [ 3.07802017e-01, -8.12483298e-02,  1.04901157e-01, ...,\n",
       "        -5.25692164e-03, -3.00546090e-03,  5.90546055e-03],\n",
       "       [ 5.94872599e-02, -5.33840931e-02, -3.79265505e-03, ...,\n",
       "        -8.61405017e-03,  7.62744305e-03,  2.41145224e-03],\n",
       "       ...,\n",
       "       [ 4.94790364e-02,  1.44100926e-03,  2.04518289e-02, ...,\n",
       "        -2.96015874e-03,  2.53904173e-03,  1.94126670e-02],\n",
       "       [ 7.26379594e-02, -3.02390307e-02, -2.14007857e-02, ...,\n",
       "        -1.12496816e-02, -2.21718200e-03, -1.63391259e-02],\n",
       "       [ 2.13879670e-01, -5.90631401e-02,  4.56720508e-02, ...,\n",
       "         2.89206004e-03, -1.53273058e-02,  2.78665509e-03]])"
      ]
     },
     "execution_count": 180,
     "metadata": {},
     "output_type": "execute_result"
    }
   ],
   "source": [
    "X[df['label'] == 'positive']"
   ]
  },
  {
   "cell_type": "code",
   "execution_count": 181,
   "id": "0b636c06-5162-4fea-84fb-650d100be271",
   "metadata": {},
   "outputs": [],
   "source": [
    "hmm_models = dict()\n",
    "for c in np.unique(ytrain):\n",
    "    hmm_models[c] = hmm.MultinomialHMM(n_components=10)\n",
    "    hmm_models[c].fit(Xtrain[ytrain == c])"
   ]
  },
  {
   "cell_type": "code",
   "execution_count": 182,
   "id": "9e225d35-5a82-4789-b042-517d1cf873ca",
   "metadata": {},
   "outputs": [],
   "source": [
    "def predict(data):\n",
    "    global hmm_models\n",
    "    values = [model.score(data) for model in hmm_models.values()]\n",
    "    return label[np.argmax(values)]"
   ]
  },
  {
   "cell_type": "code",
   "execution_count": 183,
   "id": "a7d53c45-a05e-4312-b499-d2d2dd3e6f29",
   "metadata": {},
   "outputs": [
    {
     "data": {
      "text/plain": [
       "array(['negative', 'neutral', 'positive'], dtype=object)"
      ]
     },
     "execution_count": 183,
     "metadata": {},
     "output_type": "execute_result"
    }
   ],
   "source": [
    "encoder.inverse_transform([0, 1, 2])"
   ]
  },
  {
   "cell_type": "code",
   "execution_count": 184,
   "id": "185c65b7-1614-4cd1-9a29-4c0b037285d5",
   "metadata": {},
   "outputs": [],
   "source": [
    "def score(X, y):\n",
    "    acc = 0\n",
    "    for datum, c in zip(X, y):\n",
    "        pred = predict([datum])\n",
    "        acc += c == pred\n",
    "    return acc / X.shape[0]"
   ]
  },
  {
   "cell_type": "code",
   "execution_count": 185,
   "id": "2220fb94-7975-414f-81f5-555f33c4db7e",
   "metadata": {},
   "outputs": [
    {
     "data": {
      "text/plain": [
       "0.49072164948453606"
      ]
     },
     "execution_count": 185,
     "metadata": {},
     "output_type": "execute_result"
    }
   ],
   "source": [
    "score(Xtest, ytest)"
   ]
  },
  {
   "cell_type": "code",
   "execution_count": 186,
   "id": "be8b4a41-3036-4e4a-a7cf-fc40e7d3a5bf",
   "metadata": {},
   "outputs": [
    {
     "data": {
      "text/plain": [
       "0.5296697626418989"
      ]
     },
     "execution_count": 186,
     "metadata": {},
     "output_type": "execute_result"
    }
   ],
   "source": [
    "score(Xtrain, ytrain)"
   ]
  }
 ],
 "metadata": {
  "kernelspec": {
   "display_name": "Python 3 (ipykernel)",
   "language": "python",
   "name": "python3"
  },
  "language_info": {
   "codemirror_mode": {
    "name": "ipython",
    "version": 3
   },
   "file_extension": ".py",
   "mimetype": "text/x-python",
   "name": "python",
   "nbconvert_exporter": "python",
   "pygments_lexer": "ipython3",
   "version": "3.9.7"
  }
 },
 "nbformat": 4,
 "nbformat_minor": 5
}
